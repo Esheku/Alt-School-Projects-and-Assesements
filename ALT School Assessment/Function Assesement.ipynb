{
 "cells": [
  {
   "cell_type": "markdown",
   "id": "62257430-c80d-4655-a77a-50d65cc4941a",
   "metadata": {
    "deletable": false,
    "editable": false,
    "nbgrader": {
     "cell_type": "markdown",
     "checksum": "e782c5e53dad030cdc8157aa8e36068b",
     "grade": false,
     "grade_id": "cell-f96b0a1de6177cb1",
     "locked": true,
     "schema_version": 3,
     "solution": false,
     "task": false
    }
   },
   "source": [
    "1. Write a function that called **squareroot** that returns the squareroot of a number"
   ]
  },
  {
   "cell_type": "code",
   "execution_count": 4,
   "id": "d625aa18-4cca-4582-9765-629101b45cd6",
   "metadata": {
    "deletable": false,
    "nbgrader": {
     "cell_type": "code",
     "checksum": "6513cc034bf2099134c8067967f38309",
     "grade": false,
     "grade_id": "cell-2d2f2253c6076055",
     "locked": false,
     "schema_version": 3,
     "solution": true,
     "task": false
    }
   },
   "outputs": [],
   "source": [
    "def squareroot(number):\n",
    "    sqrt = number ** 0.5\n",
    "    return int(sqrt)"
   ]
  },
  {
   "cell_type": "code",
   "execution_count": 5,
   "id": "b153ca34-2c03-41a3-8221-70d7e4295f12",
   "metadata": {
    "deletable": false,
    "editable": false,
    "nbgrader": {
     "cell_type": "code",
     "checksum": "26893aaf446f9a29367ec8c459f46fdb",
     "grade": true,
     "grade_id": "cell-e64a12da4fca8b8d",
     "locked": true,
     "points": 2,
     "schema_version": 3,
     "solution": false,
     "task": false
    }
   },
   "outputs": [],
   "source": [
    "assert squareroot(100) == 10\n",
    "assert squareroot(25) == 5\n",
    "assert squareroot(4) == 2"
   ]
  },
  {
   "cell_type": "markdown",
   "id": "b3923882-f9ba-4d94-bd99-0a8950e51c8b",
   "metadata": {
    "deletable": false,
    "editable": false,
    "nbgrader": {
     "cell_type": "markdown",
     "checksum": "1f6f7bc12ce1352e87dc43165c12760e",
     "grade": false,
     "grade_id": "cell-06b928d96f9cc35b",
     "locked": true,
     "schema_version": 3,
     "solution": false,
     "task": false
    }
   },
   "source": [
    "2. Create a function to calculate the discounted price on a product given the original price and the percentage discount.\n",
    "The formula for calculating discount is\n",
    "$$\n",
    "\\text{discount} = \\left(\\frac{\\text{discount\\_percentage}}{100}\\right) * \\text{original\\_price}\n",
    "$$\n",
    "\n",
    "$$\n",
    "\\text{discounted\\_price} = \\text{original\\_price} - \\text{discount}\n",
    "$$"
   ]
  },
  {
   "cell_type": "code",
   "execution_count": 6,
   "id": "a77dcffe-1c9d-4fde-86cb-d521ddd67df8",
   "metadata": {
    "deletable": false,
    "nbgrader": {
     "cell_type": "code",
     "checksum": "6b1141040fa8f8560417959bdf9e6273",
     "grade": false,
     "grade_id": "cell-ece99dbbbb868f82",
     "locked": false,
     "schema_version": 3,
     "solution": true,
     "task": false
    }
   },
   "outputs": [],
   "source": [
    "def calculate_discount(original_price, discount_percentage):\n",
    "    discount = (discount_percentage / 100) * original_price\n",
    "    discount_price = original_price - discount\n",
    "    return discount_price"
   ]
  },
  {
   "cell_type": "code",
   "execution_count": 7,
   "id": "66472b02-1db8-4430-945d-965c14b3f366",
   "metadata": {
    "deletable": false,
    "editable": false,
    "nbgrader": {
     "cell_type": "code",
     "checksum": "ca7e770b2fc375539d3090c0817eebd4",
     "grade": true,
     "grade_id": "cell-756ff72b038890c7",
     "locked": true,
     "points": 2,
     "schema_version": 3,
     "solution": false,
     "task": false
    }
   },
   "outputs": [],
   "source": [
    "assert calculate_discount(500, 10) == 450.0\n",
    "assert calculate_discount(100, 20) == 80.0\n",
    "assert calculate_discount(1500, 15) == 1275.0"
   ]
  },
  {
   "cell_type": "markdown",
   "id": "62f57a2f-c67a-46fa-9c46-e304b9832750",
   "metadata": {
    "deletable": false,
    "editable": false,
    "nbgrader": {
     "cell_type": "markdown",
     "checksum": "be14c6f7535e5e3c87735ead486b3f11",
     "grade": false,
     "grade_id": "cell-4203a3ae2c2d3eee",
     "locked": true,
     "schema_version": 3,
     "solution": false,
     "task": false
    }
   },
   "source": [
    "3. using the same formula in question 2, write a function called **discount_calculator** that will calculate the discounted price of a product using a default discount of 5% unless a different percentage is specified."
   ]
  },
  {
   "cell_type": "code",
   "execution_count": 8,
   "id": "fddcb64b-aa24-4ae7-bcae-dfb01dc25db2",
   "metadata": {
    "deletable": false,
    "nbgrader": {
     "cell_type": "code",
     "checksum": "8bd04e4e6d3a50d1a3d2475099330330",
     "grade": false,
     "grade_id": "cell-6e800e3609ad0dc4",
     "locked": false,
     "schema_version": 3,
     "solution": true,
     "task": false
    }
   },
   "outputs": [],
   "source": [
    "def discount_calculator(original_price, discount_percentage = 5):\n",
    "    discount = (discount_percentage / 100) * original_price\n",
    "    discount_price = original_price - discount\n",
    "    return discount_price"
   ]
  },
  {
   "cell_type": "code",
   "execution_count": 9,
   "id": "64d78cfc-4a0a-409b-895e-153cda5baaba",
   "metadata": {
    "deletable": false,
    "editable": false,
    "nbgrader": {
     "cell_type": "code",
     "checksum": "9b924e51ccadfbcfcc7ff02e8c6c4b47",
     "grade": true,
     "grade_id": "cell-0a6c826e8a5ac374",
     "locked": true,
     "points": 2,
     "schema_version": 3,
     "solution": false,
     "task": false
    }
   },
   "outputs": [],
   "source": [
    "assert discount_calculator(500, 10) == 450.0\n",
    "assert discount_calculator(100) == 95.0\n",
    "assert discount_calculator(1500, 15) == 1275.0\n",
    "assert discount_calculator(1000) == 950.0"
   ]
  },
  {
   "cell_type": "markdown",
   "id": "a82a716f-f72f-4908-9771-8344a0c9c523",
   "metadata": {
    "deletable": false,
    "editable": false,
    "nbgrader": {
     "cell_type": "markdown",
     "checksum": "43a92447b67fd91d6a44a96ac109e23f",
     "grade": false,
     "grade_id": "cell-c968203244c0dd99",
     "locked": true,
     "schema_version": 3,
     "solution": false,
     "task": false
    }
   },
   "source": [
    "4. Write a function called **grade** that will return the grade of student depending on the score.\n",
    "   The scoring template is as follows:\n",
    "   \n",
    "   * Above 70 - A\n",
    "   * 60 to 69 - B\n",
    "   * 50 to 59 - C\n",
    "   * 45 to 49 - D\n",
    "   * 40 to 44 - E\n",
    "   * Below 40 - F"
   ]
  },
  {
   "cell_type": "code",
   "execution_count": 10,
   "id": "ba454238-99f7-4a43-b18c-93e29d7c846b",
   "metadata": {
    "deletable": false,
    "nbgrader": {
     "cell_type": "code",
     "checksum": "fcbb1e8151170e5c7f7dfc76822c9fe7",
     "grade": false,
     "grade_id": "cell-233ab09ca75b996d",
     "locked": false,
     "schema_version": 3,
     "solution": true,
     "task": false
    }
   },
   "outputs": [],
   "source": [
    "def grade(score):\n",
    "    if score > 70:\n",
    "        return \"A\"\n",
    "    elif 60 <= score <= 70:\n",
    "        return \"B\"\n",
    "    elif 50 <= score <= 59:\n",
    "        return \"C\"\n",
    "    elif 45 <= score <= 49:\n",
    "        return \"D\"\n",
    "    elif 40 <= score <= 44:\n",
    "        return \"E\"\n",
    "    else:\n",
    "        return \"F\""
   ]
  },
  {
   "cell_type": "code",
   "execution_count": 11,
   "id": "39797e24-ca5f-4c62-adc7-b8dc2c42f639",
   "metadata": {
    "deletable": false,
    "editable": false,
    "nbgrader": {
     "cell_type": "code",
     "checksum": "760727334772ee17992ec46d56af02e0",
     "grade": true,
     "grade_id": "cell-093011897cd98f6b",
     "locked": true,
     "points": 2,
     "schema_version": 3,
     "solution": false,
     "task": false
    }
   },
   "outputs": [],
   "source": [
    "assert grade(90) == 'A'\n",
    "assert grade(33) == 'F'\n",
    "assert grade(65) == 'B'\n",
    "assert grade(47) == 'D'"
   ]
  },
  {
   "cell_type": "markdown",
   "id": "e7464d8b-ffec-4c6f-9028-d93068030c14",
   "metadata": {
    "deletable": false,
    "editable": false,
    "nbgrader": {
     "cell_type": "markdown",
     "checksum": "a0134af5c4632bc00cd7bc69958e2aa5",
     "grade": false,
     "grade_id": "cell-ee599975cef444b3",
     "locked": true,
     "schema_version": 3,
     "solution": false,
     "task": false
    }
   },
   "source": [
    "5. Write a function called **highest** that returns the highest value in a list."
   ]
  },
  {
   "cell_type": "code",
   "execution_count": 12,
   "id": "921651a4-8304-4b21-89ca-1564cea747c5",
   "metadata": {
    "deletable": false,
    "nbgrader": {
     "cell_type": "code",
     "checksum": "d909710c800398cf885d5b72d8139716",
     "grade": false,
     "grade_id": "cell-82c763f423b0be92",
     "locked": false,
     "schema_version": 3,
     "solution": true,
     "task": false
    }
   },
   "outputs": [],
   "source": [
    "def highest(lst_name):\n",
    "    max_lst = max(lst_name)\n",
    "    return max_lst"
   ]
  },
  {
   "cell_type": "code",
   "execution_count": 13,
   "id": "c4bcd7be-c9e5-4f73-8184-e29025c32e95",
   "metadata": {
    "deletable": false,
    "editable": false,
    "nbgrader": {
     "cell_type": "code",
     "checksum": "0c5bec6b817837331072436721d37201",
     "grade": true,
     "grade_id": "cell-7f19173d420da15d",
     "locked": true,
     "points": 2,
     "schema_version": 3,
     "solution": false,
     "task": false
    }
   },
   "outputs": [],
   "source": [
    "assert highest([10, 20, 3.5]) == 20\n",
    "assert highest(['A', 'B', 'Z', 'K']) == 'Z'"
   ]
  }
 ],
 "metadata": {
  "kernelspec": {
   "display_name": "Python 3 (ipykernel)",
   "language": "python",
   "name": "python3"
  },
  "language_info": {
   "codemirror_mode": {
    "name": "ipython",
    "version": 3
   },
   "file_extension": ".py",
   "mimetype": "text/x-python",
   "name": "python",
   "nbconvert_exporter": "python",
   "pygments_lexer": "ipython3",
   "version": "3.11.5"
  }
 },
 "nbformat": 4,
 "nbformat_minor": 5
}
