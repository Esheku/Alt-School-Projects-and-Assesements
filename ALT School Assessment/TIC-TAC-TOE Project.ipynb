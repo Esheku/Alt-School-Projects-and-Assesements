{
 "cells": [
  {
   "cell_type": "code",
   "execution_count": 4,
   "id": "8fa1f327",
   "metadata": {},
   "outputs": [],
   "source": [
    "def display_board(board):\n",
    "    print('   |   |')\n",
    "    print('  ' + board[1] + '| ' + board[2] + ' |' + board[3])\n",
    "    print('   |   |')\n",
    "    print('------------')\n",
    "    print('   |   |')\n",
    "    print('  ' + board[4] + '| ' + board[5] + ' |' + board[6])\n",
    "    print('   |   |')\n",
    "    print('------------')\n",
    "    print('   |   |')\n",
    "    print('  ' + board[7] + '| ' + board[8] + ' |' + board[9])\n",
    "    print('   |   |')\n",
    "    print('_________________________________________________')"
   ]
  },
  {
   "cell_type": "code",
   "execution_count": 5,
   "id": "5faebca5",
   "metadata": {
    "scrolled": true
   },
   "outputs": [
    {
     "name": "stdout",
     "output_type": "stream",
     "text": [
      "   |   |\n",
      "  1| 2 |3\n",
      "   |   |\n",
      "------------\n",
      "   |   |\n",
      "  4| 5 |6\n",
      "   |   |\n",
      "------------\n",
      "   |   |\n",
      "  7| 8 |9\n",
      "   |   |\n",
      "_________________________________________________\n"
     ]
    }
   ],
   "source": [
    "ttt_board = [str(x) for x in range(0, 10)]\n",
    "display_board(ttt_board)"
   ]
  },
  {
   "cell_type": "code",
   "execution_count": 6,
   "id": "4e17822f",
   "metadata": {},
   "outputs": [],
   "source": [
    "def player_input():\n",
    "    play1_marker = input(\"Choose between X and O\")\n",
    "    \n",
    "    while play1_marker.upper() not in ['X', 'O']:\n",
    "        play1_marker = input(\"Choose between X and O\")\n",
    "        \n",
    "    if play1_marker.upper() == 'X':\n",
    "        print(\"Player 1 is X\")\n",
    "        print(\"Player 2 is O\")\n",
    "        return ('X', 'O')\n",
    "    else:\n",
    "        print(\"Player 1 is O\")\n",
    "        print(\"Player 2 is X\")\n",
    "        return ('O', 'X')\n",
    "        \n",
    "    "
   ]
  },
  {
   "cell_type": "code",
   "execution_count": 7,
   "id": "66c6ba39",
   "metadata": {},
   "outputs": [
    {
     "name": "stdout",
     "output_type": "stream",
     "text": [
      "Choose between X and Ox\n",
      "Player 1 is X\n",
      "Player 2 is O\n"
     ]
    },
    {
     "data": {
      "text/plain": [
       "('X', 'O')"
      ]
     },
     "execution_count": 7,
     "metadata": {},
     "output_type": "execute_result"
    }
   ],
   "source": [
    "player_input()"
   ]
  },
  {
   "cell_type": "code",
   "execution_count": 8,
   "id": "292120d4",
   "metadata": {},
   "outputs": [],
   "source": [
    "#try and add the display function here.\n",
    "\n",
    "def place_marker(board, marker, position):\n",
    "    new_board = board\n",
    "    new_board[position] = marker\n",
    "    return new_board"
   ]
  },
  {
   "cell_type": "code",
   "execution_count": 9,
   "id": "782047ca",
   "metadata": {},
   "outputs": [
    {
     "data": {
      "text/plain": [
       "['0', '1', '2', '3', '4', '5', 'X', '7', '8', '9']"
      ]
     },
     "execution_count": 9,
     "metadata": {},
     "output_type": "execute_result"
    }
   ],
   "source": [
    "place_marker(ttt_board, 'X', 6)"
   ]
  },
  {
   "cell_type": "code",
   "execution_count": 10,
   "id": "b2407e4b",
   "metadata": {
    "scrolled": true
   },
   "outputs": [
    {
     "name": "stdout",
     "output_type": "stream",
     "text": [
      "   |   |\n",
      "  1| 2 |3\n",
      "   |   |\n",
      "------------\n",
      "   |   |\n",
      "  4| 5 |X\n",
      "   |   |\n",
      "------------\n",
      "   |   |\n",
      "  7| 8 |9\n",
      "   |   |\n",
      "_________________________________________________\n"
     ]
    }
   ],
   "source": [
    "display_board(ttt_board)"
   ]
  },
  {
   "cell_type": "code",
   "execution_count": 11,
   "id": "8170a14c",
   "metadata": {},
   "outputs": [],
   "source": [
    "def win_check(board, mark):\n",
    "    won_top_horizon = board[1] == mark and board[2] == mark and board[3] == mark\n",
    "    won_middle_horizon = board[4] == mark and board[5] == mark and board[6] == mark\n",
    "    won_bottom_horizon = board[7] == mark and board[8] == mark and board[9] == mark\n",
    "    won_right_vert = board[1] == mark and board[4] == mark and board[7] == mark\n",
    "    won_middle_vert = board[2] == mark and board[5] == mark and board[8] == mark\n",
    "    won_left_vert = board[3] == mark and board[6] == mark and board[9] == mark\n",
    "    won_left_diagonal = board[7] == mark and board[5] == mark and board[3] == mark\n",
    "    won_right_diagonal = board[9] == mark and board[5] == mark and board[1] == mark\n",
    "    \n",
    "    has_won = won_top_horizon or won_right_vert or won_right_diagonal or won_middle_vert or won_middle_horizon or won_left_vert or won_left_diagonal or won_bottom_horizon\n",
    "    \n",
    "    return has_won \n",
    "    "
   ]
  },
  {
   "cell_type": "code",
   "execution_count": 12,
   "id": "15231570",
   "metadata": {},
   "outputs": [
    {
     "data": {
      "text/plain": [
       "False"
      ]
     },
     "execution_count": 12,
     "metadata": {},
     "output_type": "execute_result"
    }
   ],
   "source": [
    "win_check(ttt_board, 'X')"
   ]
  },
  {
   "cell_type": "code",
   "execution_count": 13,
   "id": "9b0c1c1c",
   "metadata": {},
   "outputs": [],
   "source": [
    "import random\n",
    "\n",
    "def choose_first():\n",
    "    pass"
   ]
  },
  {
   "cell_type": "code",
   "execution_count": 14,
   "id": "a35ca2b7",
   "metadata": {},
   "outputs": [],
   "source": [
    "def space_check(board, position):\n",
    "    if board[position] not in ['X', 'O']:\n",
    "        return True\n",
    "    else:\n",
    "        return False"
   ]
  },
  {
   "cell_type": "code",
   "execution_count": 15,
   "id": "0cdcf93a",
   "metadata": {},
   "outputs": [
    {
     "data": {
      "text/plain": [
       "False"
      ]
     },
     "execution_count": 15,
     "metadata": {},
     "output_type": "execute_result"
    }
   ],
   "source": [
    "space_check(ttt_board, 6)"
   ]
  },
  {
   "cell_type": "code",
   "execution_count": 16,
   "id": "692d82c5",
   "metadata": {},
   "outputs": [],
   "source": [
    "def full_board_check(board):\n",
    "    is_full = True\n",
    "    for position, marker in enumerate(ttt_board):\n",
    "        if position == 0:\n",
    "            continue\n",
    "        else:\n",
    "            if marker in ['X', 'O']:\n",
    "                is_full = True\n",
    "            else:\n",
    "                is_full = False\n",
    "                break\n",
    "    return is_full\n",
    "                "
   ]
  },
  {
   "cell_type": "code",
   "execution_count": 17,
   "id": "cd9272db",
   "metadata": {},
   "outputs": [
    {
     "data": {
      "text/plain": [
       "False"
      ]
     },
     "execution_count": 17,
     "metadata": {},
     "output_type": "execute_result"
    }
   ],
   "source": [
    "full_board_check(ttt_board)"
   ]
  },
  {
   "cell_type": "code",
   "execution_count": 18,
   "id": "2b7fa238",
   "metadata": {},
   "outputs": [],
   "source": [
    "def player_choice(board):\n",
    "    choice = int(input('What position do you want to play on: '))\n",
    "    is_free = space_check(board, choice)\n",
    "    if is_free:\n",
    "        print(f\"Position {choice} is free to play on\")\n",
    "        return choice\n",
    "    else: \n",
    "        print(f\"Position {choice} already has a marker\")\n",
    "        player_choice(board)"
   ]
  },
  {
   "cell_type": "code",
   "execution_count": 19,
   "id": "f07baf84",
   "metadata": {},
   "outputs": [
    {
     "name": "stdout",
     "output_type": "stream",
     "text": [
      "What position do you want to play on: 3\n",
      "Position 3 is free to play on\n"
     ]
    },
    {
     "data": {
      "text/plain": [
       "3"
      ]
     },
     "execution_count": 19,
     "metadata": {},
     "output_type": "execute_result"
    }
   ],
   "source": [
    "player_choice(ttt_board)"
   ]
  },
  {
   "cell_type": "code",
   "execution_count": 20,
   "id": "4aa6d4b6",
   "metadata": {},
   "outputs": [],
   "source": [
    "def replay():\n",
    "    response = input(\"Do you want to play again Y/N? \")\n",
    "    if response.upper() == 'Y':\n",
    "        return True\n",
    "    else:\n",
    "        return False"
   ]
  },
  {
   "cell_type": "code",
   "execution_count": 21,
   "id": "0aa9013f",
   "metadata": {},
   "outputs": [
    {
     "name": "stdout",
     "output_type": "stream",
     "text": [
      "Welcome to TIC TAC TOE!\n",
      "Choose between X and Ox\n",
      "Player 1 is X\n",
      "Player 2 is O\n",
      "Are You Ready to Play \n",
      " Enter Yes or No n\n",
      "Do you want to play again Y/N? n\n"
     ]
    }
   ],
   "source": [
    "print('Welcome to TIC TAC TOE!')\n",
    "\n",
    "while True:\n",
    "    ttt_board = [str(x) for x in range(0, 10)]\n",
    "    \n",
    "    player1_marker, player2_marker = player_input()\n",
    "    \n",
    "    play_game = input('Are You Ready to Play \\n Enter Yes or No ')\n",
    "    \n",
    "    if play_game.lower()[0] == 'y' or play_game.upper() == 'Y':\n",
    "        game_on = True\n",
    "        print('Game has begun!')\n",
    "    else:\n",
    "        game_on = False\n",
    "    \n",
    "    turn = 'Player 1'\n",
    "    while game_on:\n",
    "        if turn == 'Player 1':\n",
    "            print(\"Player one's turn\")\n",
    "            \n",
    "            display_board(ttt_board)\n",
    "            position = player_choice(ttt_board)\n",
    "            place_marker(ttt_board, player1_marker, position)\n",
    "            \n",
    "            if win_check(ttt_board, player1_marker):\n",
    "                display_board(ttt_board)\n",
    "                print(f'Congratulations! Player 1 with {player1_marker} has won the game')\n",
    "                game_on = False\n",
    "            else:\n",
    "                if full_board_check(ttt_board):\n",
    "                    display_board(ttt_board)\n",
    "                    print('The game is a draw!')\n",
    "                    break\n",
    "                else:\n",
    "                    turn = 'Player 2'\n",
    "        else:\n",
    "            print(\"Player Two's turn\")\n",
    "            display_board(ttt_board)\n",
    "            position = player_choice(ttt_board)\n",
    "            place_marker(ttt_board, player2_marker, position)\n",
    "            \n",
    "            if win_check(ttt_board, player1_marker):\n",
    "                display_board(ttt_board)\n",
    "                print(f'Congratulations! Player 2 with {player2_marker} has won the game')\n",
    "                game_on = False\n",
    "            else:\n",
    "                if full_board_check(ttt_board):\n",
    "                    display_board(ttt_board)\n",
    "                    print('The game is a draw!')\n",
    "                    break\n",
    "                else:\n",
    "                    turn = 'Player 1'\n",
    "        \n",
    "    if not replay():\n",
    "        break"
   ]
  },
  {
   "cell_type": "code",
   "execution_count": 22,
   "id": "2de560dd",
   "metadata": {},
   "outputs": [],
   "source": [
    "def tictactoe_game():\n",
    "    print('Welcome to TIC TAC TOE!')\n",
    "\n",
    "    while True:\n",
    "        ttt_board = [str(x) for x in range(0, 10)]\n",
    "    \n",
    "        player1_marker, player2_marker = player_input()\n",
    "    \n",
    "        play_game = input('Are You Ready to Play \\n Enter Yes or No ')\n",
    "    \n",
    "        if play_game.lower()[0] == 'y' or play_game.upper() == 'Y':\n",
    "            game_on = True\n",
    "            print('Game has begun!')\n",
    "        else:\n",
    "            game_on = False\n",
    "    \n",
    "        turn = 'Player 1'\n",
    "        while game_on:\n",
    "            if turn == 'Player 1':\n",
    "                print(\"Player one's turn\")\n",
    "            \n",
    "                display_board(ttt_board)\n",
    "                position = player_choice(ttt_board)\n",
    "                place_marker(ttt_board, player1_marker, position)\n",
    "            \n",
    "                if win_check(ttt_board, player1_marker):\n",
    "                    display_board(ttt_board)\n",
    "                    print(f'Congratulations! Player 1 with {player1_marker} has won the game')\n",
    "                    game_on = False\n",
    "                else:\n",
    "                    if full_board_check(ttt_board):\n",
    "                        display_board(ttt_board)\n",
    "                        print('The game is a draw!')\n",
    "                        break\n",
    "                    else:\n",
    "                        turn = 'Player 2'\n",
    "            else:\n",
    "                print(\"Player Two's turn\")\n",
    "                display_board(ttt_board)\n",
    "                position = player_choice(ttt_board)\n",
    "                place_marker(ttt_board, player2_marker, position)\n",
    "            \n",
    "                if win_check(ttt_board, player2_marker):\n",
    "                    display_board(ttt_board)\n",
    "                    print(f'Congratulations! Player 2 with {player2_marker} has won the game')\n",
    "                    game_on = False\n",
    "                else:\n",
    "                    if full_board_check(ttt_board):\n",
    "                        display_board(ttt_board)\n",
    "                        print('The game is a draw!')\n",
    "                        break\n",
    "                    else:\n",
    "                        turn = 'Player 1'\n",
    "        \n",
    "        if not replay():\n",
    "            break"
   ]
  },
  {
   "cell_type": "code",
   "execution_count": null,
   "id": "bd6ced2c",
   "metadata": {},
   "outputs": [
    {
     "name": "stdout",
     "output_type": "stream",
     "text": [
      "Welcome to TIC TAC TOE!\n",
      "Choose between X and Ox\n",
      "Player 1 is X\n",
      "Player 2 is O\n",
      "Are You Ready to Play \n",
      " Enter Yes or No y\n",
      "Game has begun!\n",
      "Player one's turn\n",
      "   |   |\n",
      "  1| 2 |3\n",
      "   |   |\n",
      "------------\n",
      "   |   |\n",
      "  4| 5 |6\n",
      "   |   |\n",
      "------------\n",
      "   |   |\n",
      "  7| 8 |9\n",
      "   |   |\n",
      "_________________________________________________\n",
      "What position do you want to play on: 5\n",
      "Position 5 is free to play on\n",
      "Player Two's turn\n",
      "   |   |\n",
      "  1| 2 |3\n",
      "   |   |\n",
      "------------\n",
      "   |   |\n",
      "  4| X |6\n",
      "   |   |\n",
      "------------\n",
      "   |   |\n",
      "  7| 8 |9\n",
      "   |   |\n",
      "_________________________________________________\n",
      "What position do you want to play on: 7\n",
      "Position 7 is free to play on\n",
      "Player one's turn\n",
      "   |   |\n",
      "  1| 2 |3\n",
      "   |   |\n",
      "------------\n",
      "   |   |\n",
      "  4| X |6\n",
      "   |   |\n",
      "------------\n",
      "   |   |\n",
      "  O| 8 |9\n",
      "   |   |\n",
      "_________________________________________________\n",
      "What position do you want to play on: 2\n",
      "Position 2 is free to play on\n",
      "Player Two's turn\n",
      "   |   |\n",
      "  1| X |3\n",
      "   |   |\n",
      "------------\n",
      "   |   |\n",
      "  4| X |6\n",
      "   |   |\n",
      "------------\n",
      "   |   |\n",
      "  O| 8 |9\n",
      "   |   |\n",
      "_________________________________________________\n",
      "What position do you want to play on: 9\n",
      "Position 9 is free to play on\n",
      "Player one's turn\n",
      "   |   |\n",
      "  1| X |3\n",
      "   |   |\n",
      "------------\n",
      "   |   |\n",
      "  4| X |6\n",
      "   |   |\n",
      "------------\n",
      "   |   |\n",
      "  O| 8 |O\n",
      "   |   |\n",
      "_________________________________________________\n",
      "What position do you want to play on: 1\n",
      "Position 1 is free to play on\n",
      "Player Two's turn\n",
      "   |   |\n",
      "  X| X |3\n",
      "   |   |\n",
      "------------\n",
      "   |   |\n",
      "  4| X |6\n",
      "   |   |\n",
      "------------\n",
      "   |   |\n",
      "  O| 8 |O\n",
      "   |   |\n",
      "_________________________________________________\n",
      "What position do you want to play on: 8\n",
      "Position 8 is free to play on\n",
      "   |   |\n",
      "  X| X |3\n",
      "   |   |\n",
      "------------\n",
      "   |   |\n",
      "  4| X |6\n",
      "   |   |\n",
      "------------\n",
      "   |   |\n",
      "  O| O |O\n",
      "   |   |\n",
      "_________________________________________________\n",
      "Congratulations! Player 2 with O has won the game\n",
      "Do you want to play again Y/N? y\n",
      "Choose between X and Ox\n",
      "Player 1 is X\n",
      "Player 2 is O\n",
      "Are You Ready to Play \n",
      " Enter Yes or No y\n",
      "Game has begun!\n",
      "Player one's turn\n",
      "   |   |\n",
      "  1| 2 |3\n",
      "   |   |\n",
      "------------\n",
      "   |   |\n",
      "  4| 5 |6\n",
      "   |   |\n",
      "------------\n",
      "   |   |\n",
      "  7| 8 |9\n",
      "   |   |\n",
      "_________________________________________________\n",
      "What position do you want to play on: 5\n",
      "Position 5 is free to play on\n",
      "Player Two's turn\n",
      "   |   |\n",
      "  1| 2 |3\n",
      "   |   |\n",
      "------------\n",
      "   |   |\n",
      "  4| X |6\n",
      "   |   |\n",
      "------------\n",
      "   |   |\n",
      "  7| 8 |9\n",
      "   |   |\n",
      "_________________________________________________\n",
      "What position do you want to play on: 6\n",
      "Position 6 is free to play on\n",
      "Player one's turn\n",
      "   |   |\n",
      "  1| 2 |3\n",
      "   |   |\n",
      "------------\n",
      "   |   |\n",
      "  4| X |O\n",
      "   |   |\n",
      "------------\n",
      "   |   |\n",
      "  7| 8 |9\n",
      "   |   |\n",
      "_________________________________________________\n",
      "What position do you want to play on: 8\n",
      "Position 8 is free to play on\n",
      "Player Two's turn\n",
      "   |   |\n",
      "  1| 2 |3\n",
      "   |   |\n",
      "------------\n",
      "   |   |\n",
      "  4| X |O\n",
      "   |   |\n",
      "------------\n",
      "   |   |\n",
      "  7| X |9\n",
      "   |   |\n",
      "_________________________________________________\n",
      "What position do you want to play on: 9\n",
      "Position 9 is free to play on\n",
      "Player one's turn\n",
      "   |   |\n",
      "  1| 2 |3\n",
      "   |   |\n",
      "------------\n",
      "   |   |\n",
      "  4| X |O\n",
      "   |   |\n",
      "------------\n",
      "   |   |\n",
      "  7| X |O\n",
      "   |   |\n",
      "_________________________________________________\n",
      "What position do you want to play on: 2\n",
      "Position 2 is free to play on\n",
      "   |   |\n",
      "  1| X |3\n",
      "   |   |\n",
      "------------\n",
      "   |   |\n",
      "  4| X |O\n",
      "   |   |\n",
      "------------\n",
      "   |   |\n",
      "  7| X |O\n",
      "   |   |\n",
      "_________________________________________________\n",
      "Congratulations! Player 1 with X has won the game\n"
     ]
    }
   ],
   "source": [
    "tictactoe_game()"
   ]
  },
  {
   "cell_type": "code",
   "execution_count": null,
   "id": "f1380eb9",
   "metadata": {},
   "outputs": [],
   "source": []
  }
 ],
 "metadata": {
  "kernelspec": {
   "display_name": "Python 3 (ipykernel)",
   "language": "python",
   "name": "python3"
  },
  "language_info": {
   "codemirror_mode": {
    "name": "ipython",
    "version": 3
   },
   "file_extension": ".py",
   "mimetype": "text/x-python",
   "name": "python",
   "nbconvert_exporter": "python",
   "pygments_lexer": "ipython3",
   "version": "3.11.3"
  }
 },
 "nbformat": 4,
 "nbformat_minor": 5
}
