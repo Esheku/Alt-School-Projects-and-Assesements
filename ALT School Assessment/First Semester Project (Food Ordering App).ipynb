{
 "cells": [
  {
   "cell_type": "code",
   "execution_count": 1,
   "id": "e7f23836-7a4f-4072-a601-ea013427cea6",
   "metadata": {
    "deletable": false,
    "editable": false,
    "nbgrader": {
     "cell_type": "code",
     "checksum": "c1e2427860dedca0c2b944b49f0830d3",
     "grade": false,
     "grade_id": "cell-61a640aeb6bf1afb",
     "locked": true,
     "schema_version": 3,
     "solution": false,
     "task": false
    }
   },
   "outputs": [],
   "source": [
    "#PLEASE DO NOT MODIFY THIS CELL\n",
    "\n",
    "import unittest\n",
    "from unittest.mock import patch"
   ]
  },
  {
   "cell_type": "markdown",
   "id": "a0dbd208-2656-4fea-907d-91d887f48ab0",
   "metadata": {
    "deletable": false,
    "editable": false,
    "nbgrader": {
     "cell_type": "markdown",
     "checksum": "509ce432ad7e740a0e4af52f345ad826",
     "grade": false,
     "grade_id": "cell-b26ff8db28841dd9",
     "locked": true,
     "schema_version": 3,
     "solution": false,
     "task": false
    }
   },
   "source": [
    "# First Semester Project\n",
    "## Food Ordering Application\n",
    "A food vendor has approached you build a simple app to help theirs users order food. \n",
    "The vendor sells the following food items\n",
    "* Pizza at 6500 Naira\n",
    "* Burger at 3000 Naira\n",
    "* Noodles at 1300 Naira\n",
    "\n",
    "Write the code for each of these functions to accurately capture a users order and display a receipt to the user.\n",
    "\n",
    "NOTE: Users can order multiple items in different quantities"
   ]
  },
  {
   "cell_type": "markdown",
   "id": "1648e999-d1ed-41c7-a349-d87d40f81bbc",
   "metadata": {
    "deletable": false,
    "editable": false,
    "nbgrader": {
     "cell_type": "markdown",
     "checksum": "2c4ca02a4172a0990779b10024f513ff",
     "grade": false,
     "grade_id": "cell-3476e0639a018d23",
     "locked": true,
     "schema_version": 3,
     "solution": false,
     "task": false
    }
   },
   "source": [
    "## INSTRUCTIONS\n",
    "* Only type in the areas where you see the comment **\"#Your Code Here\"**.\n",
    "* Delete this line **\"raise NotImplementedError()\"** you will find it directly under the **\"#Your code here\"** comment.\n",
    "* Rename the file to the email you used in registering for this course.\n",
    "* Do not delete any cells or change what is written in them except for the cells that you are supposed to write on.\n",
    "* This project is worth 30 Marks so take it seriously and adhere strictly to the instructions."
   ]
  },
  {
   "cell_type": "code",
   "execution_count": 2,
   "id": "5d16abee-708f-4d4f-8970-ebffea88f7a2",
   "metadata": {
    "deletable": false,
    "editable": false,
    "nbgrader": {
     "cell_type": "code",
     "checksum": "f49661e102253cb5a5421f2aa2fe8c93",
     "grade": false,
     "grade_id": "cell-fb7b93b2fd612555",
     "locked": true,
     "schema_version": 3,
     "solution": false,
     "task": false
    }
   },
   "outputs": [],
   "source": [
    "#PLEASE DO NOT MODIFY THIS CELL\n",
    "\n",
    "def display_menu():\n",
    "    \"\"\"\n",
    "    Description: Prints the menu options for the food items available in the ordering app.\n",
    "                 since the app only has 3 food items you can order we add a fourth option to exit\n",
    "                 the menu when they are done ordering.\n",
    "    \"\"\"\n",
    "    print(\"Menu:\")\n",
    "    print(\"1. Pizza - 6500\")\n",
    "    print(\"2. Burger - 3000\")\n",
    "    print(\"3. Noodles - 1300\")\n",
    "    print(\"4. Exit Menu\")"
   ]
  },
  {
   "cell_type": "code",
   "execution_count": 3,
   "id": "25eb9bef-a717-4532-bdca-b1cef105079c",
   "metadata": {
    "deletable": false,
    "nbgrader": {
     "cell_type": "code",
     "checksum": "b431cc2b804460f30e755ef55a31d684",
     "grade": false,
     "grade_id": "cell-6c24609d20d6ba1a",
     "locked": false,
     "schema_version": 3,
     "solution": true,
     "task": false
    }
   },
   "outputs": [],
   "source": [
    "def get_user_choice():\n",
    "    \"\"\"\n",
    "    Description: Takes user input to get the number corresponding to the chosen food item from the menu.\n",
    "                 Ensures the input is a valid choice between 1 and 4.\n",
    "\n",
    "                 If the user types a valid number that is not between 1 and 4, return the ERROR\n",
    "    \"\"\"\n",
    "    choice = input(\"Enter a number for your choice of food \")\n",
    "    if choice == '4':\n",
    "        return None\n",
    "    else:\n",
    "        pass\n",
    "    \n",
    "    if choice not in ['1', '2', '3']:\n",
    "        return get_user_choice()\n",
    "        \n",
    "    else:\n",
    "        None       \n",
    "    return int(choice)\n"
   ]
  },
  {
   "cell_type": "code",
   "execution_count": 4,
   "id": "d947b869",
   "metadata": {},
   "outputs": [
    {
     "name": "stdout",
     "output_type": "stream",
     "text": [
      "Enter a number for your choice of food 1\n"
     ]
    },
    {
     "data": {
      "text/plain": [
       "1"
      ]
     },
     "execution_count": 4,
     "metadata": {},
     "output_type": "execute_result"
    }
   ],
   "source": [
    "get_user_choice()"
   ]
  },
  {
   "cell_type": "code",
   "execution_count": 5,
   "id": "b91a2e91-2e4d-49fe-8d97-b998a19b2ab3",
   "metadata": {
    "deletable": false,
    "editable": false,
    "nbgrader": {
     "cell_type": "code",
     "checksum": "dd42f04db8d6d76adc9ee256a7c45ca5",
     "grade": true,
     "grade_id": "cell-3ddef8229d1713a5",
     "locked": true,
     "points": 4,
     "schema_version": 3,
     "solution": false,
     "task": false
    }
   },
   "outputs": [],
   "source": [
    "#PLEASE DO NOT MODIFY THIS CELL\n",
    "\n",
    "class TestGetUserChoice(unittest.TestCase):\n",
    "    @patch('builtins.input', side_effect=['2'])\n",
    "    def test_valid_choice(self, mock_input):\n",
    "        result = get_user_choice()\n",
    "        self.assertEqual(result, 2)\n",
    "\n",
    "    @patch('builtins.input', side_effect=['invalid', '3'])\n",
    "    def test_invalid_then_valid_choice(self, mock_input):\n",
    "        result = get_user_choice()\n",
    "        self.assertEqual(result, 3)\n",
    "\n",
    "    @patch('builtins.input', side_effect=['5', '4'])\n",
    "    def test_invalid_then_exit_choice(self, mock_input):\n",
    "        result = get_user_choice()\n",
    "        self.assertIsNone(result)\n",
    "\n",
    "tester = TestGetUserChoice()\n",
    "tester.test_valid_choice()\n",
    "tester.test_invalid_then_valid_choice()\n",
    "tester.test_invalid_then_exit_choice()"
   ]
  },
  {
   "cell_type": "code",
   "execution_count": 6,
   "id": "d2051f24-e669-473d-9c6b-fc83d3868545",
   "metadata": {
    "deletable": false,
    "nbgrader": {
     "cell_type": "code",
     "checksum": "7f5d8466fc7b68c602e312972c397d0e",
     "grade": false,
     "grade_id": "cell-c6a618a607e23f46",
     "locked": false,
     "schema_version": 3,
     "solution": true,
     "task": false
    }
   },
   "outputs": [],
   "source": [
    "def get_quantity():\n",
    "    \"\"\"\n",
    "    Description: Takes user input to get the quantity of the selected food item.\n",
    "                 and ensures the input is a positive integer.\n",
    "    \"\"\"\n",
    "    try:\n",
    "        quantity = int(input(\"Enter Number of items \"))\n",
    "        if quantity < 0:\n",
    "            return abs(quantity)\n",
    "        elif quantity > 0:\n",
    "            return quantity\n",
    "        else:\n",
    "            print('Please enter a value')\n",
    "            get_quantity() \n",
    "    except:\n",
    "        None"
   ]
  },
  {
   "cell_type": "code",
   "execution_count": 7,
   "id": "460da9a2",
   "metadata": {
    "scrolled": true
   },
   "outputs": [
    {
     "name": "stdout",
     "output_type": "stream",
     "text": [
      "Enter Number of items 2\n"
     ]
    },
    {
     "data": {
      "text/plain": [
       "2"
      ]
     },
     "execution_count": 7,
     "metadata": {},
     "output_type": "execute_result"
    }
   ],
   "source": [
    "get_quantity()"
   ]
  },
  {
   "cell_type": "code",
   "execution_count": 8,
   "id": "036b72d3",
   "metadata": {
    "scrolled": true
   },
   "outputs": [
    {
     "name": "stdout",
     "output_type": "stream",
     "text": [
      "Enter Number of items -3\n"
     ]
    },
    {
     "data": {
      "text/plain": [
       "3"
      ]
     },
     "execution_count": 8,
     "metadata": {},
     "output_type": "execute_result"
    }
   ],
   "source": [
    "get_quantity()"
   ]
  },
  {
   "cell_type": "code",
   "execution_count": 9,
   "id": "26b94430-a2e5-4418-95c4-a7ecdf3dc877",
   "metadata": {
    "deletable": false,
    "editable": false,
    "nbgrader": {
     "cell_type": "code",
     "checksum": "9b5b564cd9f6443d5fe68cd811806003",
     "grade": true,
     "grade_id": "cell-7fd228c806e327c0",
     "locked": true,
     "points": 4,
     "schema_version": 3,
     "solution": false,
     "task": false
    }
   },
   "outputs": [
    {
     "ename": "AssertionError",
     "evalue": "None != 5",
     "output_type": "error",
     "traceback": [
      "\u001b[1;31m---------------------------------------------------------------------------\u001b[0m",
      "\u001b[1;31mAssertionError\u001b[0m                            Traceback (most recent call last)",
      "Cell \u001b[1;32mIn[9], line 21\u001b[0m\n\u001b[0;32m     19\u001b[0m tester \u001b[38;5;241m=\u001b[39m TestGetQuantity()\n\u001b[0;32m     20\u001b[0m tester\u001b[38;5;241m.\u001b[39mtest_valid_quantity()\n\u001b[1;32m---> 21\u001b[0m tester\u001b[38;5;241m.\u001b[39mtest_invalid_then_valid_quantity()\n\u001b[0;32m     22\u001b[0m tester\u001b[38;5;241m.\u001b[39mtest_invalid_then_valid_quantity_with_negative_input()\n",
      "File \u001b[1;32m~\\anaconda3\\Lib\\unittest\\mock.py:1369\u001b[0m, in \u001b[0;36m_patch.decorate_callable.<locals>.patched\u001b[1;34m(*args, **keywargs)\u001b[0m\n\u001b[0;32m   1364\u001b[0m \u001b[38;5;129m@wraps\u001b[39m(func)\n\u001b[0;32m   1365\u001b[0m \u001b[38;5;28;01mdef\u001b[39;00m \u001b[38;5;21mpatched\u001b[39m(\u001b[38;5;241m*\u001b[39margs, \u001b[38;5;241m*\u001b[39m\u001b[38;5;241m*\u001b[39mkeywargs):\n\u001b[0;32m   1366\u001b[0m     \u001b[38;5;28;01mwith\u001b[39;00m \u001b[38;5;28mself\u001b[39m\u001b[38;5;241m.\u001b[39mdecoration_helper(patched,\n\u001b[0;32m   1367\u001b[0m                                 args,\n\u001b[0;32m   1368\u001b[0m                                 keywargs) \u001b[38;5;28;01mas\u001b[39;00m (newargs, newkeywargs):\n\u001b[1;32m-> 1369\u001b[0m         \u001b[38;5;28;01mreturn\u001b[39;00m func(\u001b[38;5;241m*\u001b[39mnewargs, \u001b[38;5;241m*\u001b[39m\u001b[38;5;241m*\u001b[39mnewkeywargs)\n",
      "Cell \u001b[1;32mIn[9], line 12\u001b[0m, in \u001b[0;36mTestGetQuantity.test_invalid_then_valid_quantity\u001b[1;34m(self, mock_input)\u001b[0m\n\u001b[0;32m      9\u001b[0m \u001b[38;5;129m@patch\u001b[39m(\u001b[38;5;124m'\u001b[39m\u001b[38;5;124mbuiltins.input\u001b[39m\u001b[38;5;124m'\u001b[39m, side_effect\u001b[38;5;241m=\u001b[39m[\u001b[38;5;124m'\u001b[39m\u001b[38;5;124minvalid\u001b[39m\u001b[38;5;124m'\u001b[39m, \u001b[38;5;124m'\u001b[39m\u001b[38;5;124m5\u001b[39m\u001b[38;5;124m'\u001b[39m])\n\u001b[0;32m     10\u001b[0m \u001b[38;5;28;01mdef\u001b[39;00m \u001b[38;5;21mtest_invalid_then_valid_quantity\u001b[39m(\u001b[38;5;28mself\u001b[39m, mock_input):\n\u001b[0;32m     11\u001b[0m     result \u001b[38;5;241m=\u001b[39m get_quantity()\n\u001b[1;32m---> 12\u001b[0m     \u001b[38;5;28mself\u001b[39m\u001b[38;5;241m.\u001b[39massertEqual(result, \u001b[38;5;241m5\u001b[39m)\n",
      "File \u001b[1;32m~\\anaconda3\\Lib\\unittest\\case.py:873\u001b[0m, in \u001b[0;36mTestCase.assertEqual\u001b[1;34m(self, first, second, msg)\u001b[0m\n\u001b[0;32m    869\u001b[0m \u001b[38;5;250m\u001b[39m\u001b[38;5;124;03m\"\"\"Fail if the two objects are unequal as determined by the '=='\u001b[39;00m\n\u001b[0;32m    870\u001b[0m \u001b[38;5;124;03m   operator.\u001b[39;00m\n\u001b[0;32m    871\u001b[0m \u001b[38;5;124;03m\"\"\"\u001b[39;00m\n\u001b[0;32m    872\u001b[0m assertion_func \u001b[38;5;241m=\u001b[39m \u001b[38;5;28mself\u001b[39m\u001b[38;5;241m.\u001b[39m_getAssertEqualityFunc(first, second)\n\u001b[1;32m--> 873\u001b[0m assertion_func(first, second, msg\u001b[38;5;241m=\u001b[39mmsg)\n",
      "File \u001b[1;32m~\\anaconda3\\Lib\\unittest\\case.py:866\u001b[0m, in \u001b[0;36mTestCase._baseAssertEqual\u001b[1;34m(self, first, second, msg)\u001b[0m\n\u001b[0;32m    864\u001b[0m standardMsg \u001b[38;5;241m=\u001b[39m \u001b[38;5;124m'\u001b[39m\u001b[38;5;132;01m%s\u001b[39;00m\u001b[38;5;124m != \u001b[39m\u001b[38;5;132;01m%s\u001b[39;00m\u001b[38;5;124m'\u001b[39m \u001b[38;5;241m%\u001b[39m _common_shorten_repr(first, second)\n\u001b[0;32m    865\u001b[0m msg \u001b[38;5;241m=\u001b[39m \u001b[38;5;28mself\u001b[39m\u001b[38;5;241m.\u001b[39m_formatMessage(msg, standardMsg)\n\u001b[1;32m--> 866\u001b[0m \u001b[38;5;28;01mraise\u001b[39;00m \u001b[38;5;28mself\u001b[39m\u001b[38;5;241m.\u001b[39mfailureException(msg)\n",
      "\u001b[1;31mAssertionError\u001b[0m: None != 5"
     ]
    }
   ],
   "source": [
    "#PLEASE DO NOT MODIFY THIS CELL\n",
    "\n",
    "class TestGetQuantity(unittest.TestCase):\n",
    "    @patch('builtins.input', side_effect=['3'])\n",
    "    def test_valid_quantity(self, mock_input):\n",
    "        result = get_quantity()\n",
    "        self.assertEqual(result, 3)\n",
    "\n",
    "    @patch('builtins.input', side_effect=['invalid', '5'])\n",
    "    def test_invalid_then_valid_quantity(self, mock_input):\n",
    "        result = get_quantity()\n",
    "        self.assertEqual(result, 5)\n",
    "\n",
    "    @patch('builtins.input', side_effect=['0', '-2', '4'])\n",
    "    def test_invalid_then_valid_quantity_with_negative_input(self, mock_input):\n",
    "        result = get_quantity()\n",
    "        self.assertEqual(result, 4)\n",
    "\n",
    "tester = TestGetQuantity()\n",
    "tester.test_valid_quantity()\n",
    "tester.test_invalid_then_valid_quantity()\n",
    "tester.test_invalid_then_valid_quantity_with_negative_input()"
   ]
  },
  {
   "cell_type": "code",
   "execution_count": 39,
   "id": "262d5901-5285-4926-b60c-2784ed5e8552",
   "metadata": {
    "deletable": false,
    "nbgrader": {
     "cell_type": "code",
     "checksum": "e7da636e5385e3858ad9da17d6d6a2d4",
     "grade": false,
     "grade_id": "cell-fe851e407b6fa2ce",
     "locked": false,
     "schema_version": 3,
     "solution": true,
     "task": false
    }
   },
   "outputs": [],
   "source": [
    "def get_item_name(choice):\n",
    "    \"\"\"\n",
    "    Description: Retrieves and returns the name of a food item based on the user's choice from the menu.\n",
    "    \"\"\"\n",
    "    if choice == 1:\n",
    "        return 'Pizza'\n",
    "    elif choice == 2:\n",
    "        return 'Burger'\n",
    "    elif choice == 3:\n",
    "        return 'Noodles'\n",
    "    elif choice == 4:\n",
    "        return None\n",
    "    else:\n",
    "        \"pick between 1 to 4\"\n",
    "        get_item_name(choice)\n",
    "        "
   ]
  },
  {
   "cell_type": "code",
   "execution_count": 40,
   "id": "e0da3169",
   "metadata": {},
   "outputs": [
    {
     "data": {
      "text/plain": [
       "'Pizza'"
      ]
     },
     "execution_count": 40,
     "metadata": {},
     "output_type": "execute_result"
    }
   ],
   "source": [
    "get_item_name(1)"
   ]
  },
  {
   "cell_type": "code",
   "execution_count": 41,
   "id": "1804c554-d55a-40fa-8aaf-8d28999ab1e1",
   "metadata": {
    "deletable": false,
    "editable": false,
    "nbgrader": {
     "cell_type": "code",
     "checksum": "4736522facfee7da5d4b0782b6cb5286",
     "grade": true,
     "grade_id": "cell-c061919667620632",
     "locked": true,
     "points": 3,
     "schema_version": 3,
     "solution": false,
     "task": false
    }
   },
   "outputs": [],
   "source": [
    "#PLEASE DO NOT MODIFY THIS CELL\n",
    "\n",
    "assert get_item_name(1) == 'Pizza'\n",
    "assert get_item_name(2) == 'Burger'\n",
    "assert get_item_name(3) == 'Noodles'"
   ]
  },
  {
   "cell_type": "code",
   "execution_count": 79,
   "id": "f9d42bdc-6ad9-4acc-878e-cd67e915a0bc",
   "metadata": {
    "deletable": false,
    "nbgrader": {
     "cell_type": "code",
     "checksum": "70afa1a1997e80486bf99eaab7d8909c",
     "grade": false,
     "grade_id": "cell-8266a8ef77b7a512",
     "locked": false,
     "schema_version": 3,
     "solution": true,
     "task": false
    }
   },
   "outputs": [],
   "source": [
    "def get_item_price(choice):\n",
    "    \"\"\"\n",
    "    Description: Retrieves and returns the price of a food item based on the user's choice from the menu.\n",
    "    \"\"\"\n",
    "    if choice == 1:\n",
    "        return 6500\n",
    "    elif choice == 2:\n",
    "        return 3000\n",
    "    elif choice == 3:\n",
    "        return 1300\n",
    "    else:\n",
    "        print(\"pick between 1 to 3\")\n",
    "        get_item_price(choice)"
   ]
  },
  {
   "cell_type": "code",
   "execution_count": 80,
   "id": "219b0469",
   "metadata": {},
   "outputs": [
    {
     "data": {
      "text/plain": [
       "6500"
      ]
     },
     "execution_count": 80,
     "metadata": {},
     "output_type": "execute_result"
    }
   ],
   "source": [
    "get_item_price(1)"
   ]
  },
  {
   "cell_type": "code",
   "execution_count": 81,
   "id": "728d8603-603f-425a-887c-207d6883d19b",
   "metadata": {
    "deletable": false,
    "editable": false,
    "nbgrader": {
     "cell_type": "code",
     "checksum": "702cbe22b2c5f3ca8c54d73e2d1eab34",
     "grade": true,
     "grade_id": "cell-6b8ba807174ce818",
     "locked": true,
     "points": 3,
     "schema_version": 3,
     "solution": false,
     "task": false
    }
   },
   "outputs": [],
   "source": [
    "assert get_item_price(1) == 6500\n",
    "assert get_item_price(2) == 3000\n",
    "assert get_item_price(3) == 1300"
   ]
  },
  {
   "cell_type": "code",
   "execution_count": 16,
   "id": "d8b1dcd4-1739-4084-b517-730b18f73d2f",
   "metadata": {
    "deletable": false,
    "nbgrader": {
     "cell_type": "code",
     "checksum": "07cc8d97bc2c118b8f2fea100e5eed32",
     "grade": false,
     "grade_id": "cell-b5776935997d481b",
     "locked": false,
     "schema_version": 3,
     "solution": true,
     "task": false
    }
   },
   "outputs": [],
   "source": [
    "def calculate_total_price(item_price, quantity):\n",
    "    \"\"\"\n",
    "    Description: Calculates and returns the total price of a specific food item based on its price and the quantity ordered.\n",
    "    \"\"\"\n",
    "    total_price = item_price * quantity\n",
    "    return total_price"
   ]
  },
  {
   "cell_type": "code",
   "execution_count": 17,
   "id": "1d4e78cf",
   "metadata": {},
   "outputs": [
    {
     "data": {
      "text/plain": [
       "200"
      ]
     },
     "execution_count": 17,
     "metadata": {},
     "output_type": "execute_result"
    }
   ],
   "source": [
    "calculate_total_price(100,2)"
   ]
  },
  {
   "cell_type": "code",
   "execution_count": 18,
   "id": "87a11122-0536-4d98-9656-16e6d6e27cc8",
   "metadata": {
    "deletable": false,
    "editable": false,
    "nbgrader": {
     "cell_type": "code",
     "checksum": "ba34396fc289aacccea52faf8a65ed4d",
     "grade": true,
     "grade_id": "cell-2b5e0500570258af",
     "locked": true,
     "points": 2,
     "schema_version": 3,
     "solution": false,
     "task": false
    }
   },
   "outputs": [],
   "source": [
    "#PLEASE DO NOT MODIFY THIS CELL\n",
    "\n",
    "assert calculate_total_price(5, 2) == 10"
   ]
  },
  {
   "cell_type": "code",
   "execution_count": 44,
   "id": "ec82212d-6a86-4fb4-a37a-9102fb31f7c9",
   "metadata": {
    "deletable": false,
    "nbgrader": {
     "cell_type": "code",
     "checksum": "441d66d58f8969f97c51ecd09871c3b9",
     "grade": false,
     "grade_id": "cell-02a3728e75ef8d90",
     "locked": false,
     "schema_version": 3,
     "solution": true,
     "task": false
    }
   },
   "outputs": [],
   "source": [
    "def place_order():\n",
    "    \"\"\"\n",
    "    Description: Manages the process of adding items to a shopping cart. \n",
    "                 USE A DICTIONARY FOR THE CART.\n",
    "                 Calls other functions to get user choices, quantities, and calculates total prices.\n",
    "\n",
    "                 Your cart should look something like this assuming this user ordered 3 pizzas and 3 burgers.\n",
    "                 {\n",
    "                    'Pizza': {'quantity': 3, 'total_price': 19500},\n",
    "                    'Burger': {'quantity': 3, 'total_price': 9000}\n",
    "                 }\n",
    "    \"\"\"\n",
    "    \n",
    "    choice = get_user_choice()\n",
    "    if choice == None:\n",
    "        return choice\n",
    "    else:\n",
    "        food = get_item_name(choice)\n",
    "        price = get_item_price(choice)\n",
    "        num_of_items = get_quantity()\n",
    "        cart = {\n",
    "                    food : {'quantity' : num_of_items, 'total_price': calculate_total_price(price, num_of_items)}\n",
    "                }   \n",
    "\n",
    "        add_item = input('Do you want to place another order? Y/N ')\n",
    "        while add_item.upper() == 'Y':\n",
    "            choice = get_user_choice()\n",
    "            food = get_item_name(choice)\n",
    "            price = get_item_price(choice)\n",
    "            num_of_items = get_quantity()\n",
    "            cart[food] = {'quantity' : num_of_items, 'total_price': calculate_total_price(price, num_of_items)}\n",
    "            add_item = input('Do you want to place another order? Y/N ')   \n",
    "        else:\n",
    "            pass\n",
    "    \n",
    "    \n",
    "    return cart "
   ]
  },
  {
   "cell_type": "code",
   "execution_count": 45,
   "id": "530a75cb",
   "metadata": {
    "scrolled": true
   },
   "outputs": [
    {
     "name": "stdout",
     "output_type": "stream",
     "text": [
      "Enter a number for your choice of food 4\n"
     ]
    }
   ],
   "source": [
    "place_order()"
   ]
  },
  {
   "cell_type": "code",
   "execution_count": 77,
   "id": "59b9ba3c",
   "metadata": {},
   "outputs": [
    {
     "name": "stdout",
     "output_type": "stream",
     "text": [
      "Enter a number for your choice of food 1\n",
      "Enter Number of items 2\n",
      "Do you want to place another order? Y/N y\n",
      "Enter a number for your choice of food 2\n",
      "Enter Number of items 3\n",
      "Do you want to place another order? Y/N n\n"
     ]
    },
    {
     "data": {
      "text/plain": [
       "{'Pizza': {'quantity': 2, 'total_price': 13000},\n",
       " 'Burger': {'quantity': 3, 'total_price': 9000}}"
      ]
     },
     "execution_count": 77,
     "metadata": {},
     "output_type": "execute_result"
    }
   ],
   "source": [
    "place_order()"
   ]
  },
  {
   "cell_type": "code",
   "execution_count": 78,
   "id": "5ae78f37-76f9-4e63-83d8-6af36a53e67f",
   "metadata": {
    "deletable": false,
    "editable": false,
    "nbgrader": {
     "cell_type": "code",
     "checksum": "32373e3d45a76dbb966070352cb7832a",
     "grade": true,
     "grade_id": "cell-16918c8d89ee10fa",
     "locked": true,
     "points": 6,
     "schema_version": 3,
     "solution": false,
     "task": false
    },
    "scrolled": true
   },
   "outputs": [
    {
     "name": "stdout",
     "output_type": "stream",
     "text": [
      "Do you want to place another order? Y/N n\n"
     ]
    },
    {
     "ename": "AssertionError",
     "evalue": "{'Piz[28 chars]price': 19500}} != {'Piz[28 chars]price': 19500}, 'Burger': {'quantity': 3, 'total_price': 9000}}\n+ {'Burger': {'quantity': 3, 'total_price': 9000},\n- {'Pizza': {'quantity': 3, 'total_price': 19500}}\n? ^\n\n+  'Pizza': {'quantity': 3, 'total_price': 19500}}\n? ^\n",
     "output_type": "error",
     "traceback": [
      "\u001b[1;31m---------------------------------------------------------------------------\u001b[0m",
      "\u001b[1;31mAssertionError\u001b[0m                            Traceback (most recent call last)",
      "Cell \u001b[1;32mIn[78], line 21\u001b[0m\n\u001b[0;32m     18\u001b[0m         \u001b[38;5;28mself\u001b[39m\u001b[38;5;241m.\u001b[39massertEqual(mock_get_quantity\u001b[38;5;241m.\u001b[39mcall_count, \u001b[38;5;241m2\u001b[39m)\n\u001b[0;32m     20\u001b[0m tester \u001b[38;5;241m=\u001b[39m TestPlaceOrder()\n\u001b[1;32m---> 21\u001b[0m tester\u001b[38;5;241m.\u001b[39mtest_place_order()\n",
      "File \u001b[1;32m~\\anaconda3\\Lib\\unittest\\mock.py:1369\u001b[0m, in \u001b[0;36m_patch.decorate_callable.<locals>.patched\u001b[1;34m(*args, **keywargs)\u001b[0m\n\u001b[0;32m   1364\u001b[0m \u001b[38;5;129m@wraps\u001b[39m(func)\n\u001b[0;32m   1365\u001b[0m \u001b[38;5;28;01mdef\u001b[39;00m \u001b[38;5;21mpatched\u001b[39m(\u001b[38;5;241m*\u001b[39margs, \u001b[38;5;241m*\u001b[39m\u001b[38;5;241m*\u001b[39mkeywargs):\n\u001b[0;32m   1366\u001b[0m     \u001b[38;5;28;01mwith\u001b[39;00m \u001b[38;5;28mself\u001b[39m\u001b[38;5;241m.\u001b[39mdecoration_helper(patched,\n\u001b[0;32m   1367\u001b[0m                                 args,\n\u001b[0;32m   1368\u001b[0m                                 keywargs) \u001b[38;5;28;01mas\u001b[39;00m (newargs, newkeywargs):\n\u001b[1;32m-> 1369\u001b[0m         \u001b[38;5;28;01mreturn\u001b[39;00m func(\u001b[38;5;241m*\u001b[39mnewargs, \u001b[38;5;241m*\u001b[39m\u001b[38;5;241m*\u001b[39mnewkeywargs)\n",
      "Cell \u001b[1;32mIn[78], line 12\u001b[0m, in \u001b[0;36mTestPlaceOrder.test_place_order\u001b[1;34m(self, mock_get_quantity, mock_get_user_choice)\u001b[0m\n\u001b[0;32m      9\u001b[0m \u001b[38;5;66;03m# Assertions based on the expected behavior of place_order\u001b[39;00m\n\u001b[0;32m     10\u001b[0m expected_result \u001b[38;5;241m=\u001b[39m {\u001b[38;5;124m'\u001b[39m\u001b[38;5;124mPizza\u001b[39m\u001b[38;5;124m'\u001b[39m: {\u001b[38;5;124m'\u001b[39m\u001b[38;5;124mquantity\u001b[39m\u001b[38;5;124m'\u001b[39m: \u001b[38;5;241m3\u001b[39m, \u001b[38;5;124m'\u001b[39m\u001b[38;5;124mtotal_price\u001b[39m\u001b[38;5;124m'\u001b[39m: \u001b[38;5;241m19500\u001b[39m},\n\u001b[0;32m     11\u001b[0m                    \u001b[38;5;124m'\u001b[39m\u001b[38;5;124mBurger\u001b[39m\u001b[38;5;124m'\u001b[39m: {\u001b[38;5;124m'\u001b[39m\u001b[38;5;124mquantity\u001b[39m\u001b[38;5;124m'\u001b[39m: \u001b[38;5;241m3\u001b[39m, \u001b[38;5;124m'\u001b[39m\u001b[38;5;124mtotal_price\u001b[39m\u001b[38;5;124m'\u001b[39m: \u001b[38;5;241m9000\u001b[39m}}\n\u001b[1;32m---> 12\u001b[0m \u001b[38;5;28mself\u001b[39m\u001b[38;5;241m.\u001b[39massertEqual(result, expected_result)\n\u001b[0;32m     14\u001b[0m \u001b[38;5;66;03m# Check that get_user_choice was called three times\u001b[39;00m\n\u001b[0;32m     15\u001b[0m \u001b[38;5;28mself\u001b[39m\u001b[38;5;241m.\u001b[39massertEqual(mock_get_user_choice\u001b[38;5;241m.\u001b[39mcall_count, \u001b[38;5;241m3\u001b[39m)\n",
      "File \u001b[1;32m~\\anaconda3\\Lib\\unittest\\case.py:873\u001b[0m, in \u001b[0;36mTestCase.assertEqual\u001b[1;34m(self, first, second, msg)\u001b[0m\n\u001b[0;32m    869\u001b[0m \u001b[38;5;250m\u001b[39m\u001b[38;5;124;03m\"\"\"Fail if the two objects are unequal as determined by the '=='\u001b[39;00m\n\u001b[0;32m    870\u001b[0m \u001b[38;5;124;03m   operator.\u001b[39;00m\n\u001b[0;32m    871\u001b[0m \u001b[38;5;124;03m\"\"\"\u001b[39;00m\n\u001b[0;32m    872\u001b[0m assertion_func \u001b[38;5;241m=\u001b[39m \u001b[38;5;28mself\u001b[39m\u001b[38;5;241m.\u001b[39m_getAssertEqualityFunc(first, second)\n\u001b[1;32m--> 873\u001b[0m assertion_func(first, second, msg\u001b[38;5;241m=\u001b[39mmsg)\n",
      "File \u001b[1;32m~\\anaconda3\\Lib\\unittest\\case.py:1172\u001b[0m, in \u001b[0;36mTestCase.assertDictEqual\u001b[1;34m(self, d1, d2, msg)\u001b[0m\n\u001b[0;32m   1168\u001b[0m diff \u001b[38;5;241m=\u001b[39m (\u001b[38;5;124m'\u001b[39m\u001b[38;5;130;01m\\n\u001b[39;00m\u001b[38;5;124m'\u001b[39m \u001b[38;5;241m+\u001b[39m \u001b[38;5;124m'\u001b[39m\u001b[38;5;130;01m\\n\u001b[39;00m\u001b[38;5;124m'\u001b[39m\u001b[38;5;241m.\u001b[39mjoin(difflib\u001b[38;5;241m.\u001b[39mndiff(\n\u001b[0;32m   1169\u001b[0m                pprint\u001b[38;5;241m.\u001b[39mpformat(d1)\u001b[38;5;241m.\u001b[39msplitlines(),\n\u001b[0;32m   1170\u001b[0m                pprint\u001b[38;5;241m.\u001b[39mpformat(d2)\u001b[38;5;241m.\u001b[39msplitlines())))\n\u001b[0;32m   1171\u001b[0m standardMsg \u001b[38;5;241m=\u001b[39m \u001b[38;5;28mself\u001b[39m\u001b[38;5;241m.\u001b[39m_truncateMessage(standardMsg, diff)\n\u001b[1;32m-> 1172\u001b[0m \u001b[38;5;28mself\u001b[39m\u001b[38;5;241m.\u001b[39mfail(\u001b[38;5;28mself\u001b[39m\u001b[38;5;241m.\u001b[39m_formatMessage(msg, standardMsg))\n",
      "File \u001b[1;32m~\\anaconda3\\Lib\\unittest\\case.py:703\u001b[0m, in \u001b[0;36mTestCase.fail\u001b[1;34m(self, msg)\u001b[0m\n\u001b[0;32m    701\u001b[0m \u001b[38;5;28;01mdef\u001b[39;00m \u001b[38;5;21mfail\u001b[39m(\u001b[38;5;28mself\u001b[39m, msg\u001b[38;5;241m=\u001b[39m\u001b[38;5;28;01mNone\u001b[39;00m):\n\u001b[0;32m    702\u001b[0m \u001b[38;5;250m    \u001b[39m\u001b[38;5;124;03m\"\"\"Fail immediately, with the given message.\"\"\"\u001b[39;00m\n\u001b[1;32m--> 703\u001b[0m     \u001b[38;5;28;01mraise\u001b[39;00m \u001b[38;5;28mself\u001b[39m\u001b[38;5;241m.\u001b[39mfailureException(msg)\n",
      "\u001b[1;31mAssertionError\u001b[0m: {'Piz[28 chars]price': 19500}} != {'Piz[28 chars]price': 19500}, 'Burger': {'quantity': 3, 'total_price': 9000}}\n+ {'Burger': {'quantity': 3, 'total_price': 9000},\n- {'Pizza': {'quantity': 3, 'total_price': 19500}}\n? ^\n\n+  'Pizza': {'quantity': 3, 'total_price': 19500}}\n? ^\n"
     ]
    }
   ],
   "source": [
    "#PLEASE DO NOT MODIFY THIS CELL\n",
    "\n",
    "class TestPlaceOrder(unittest.TestCase):\n",
    "    @patch('__main__.get_user_choice', side_effect=[1, 2, None])\n",
    "    @patch('__main__.get_quantity', return_value=3)\n",
    "    def test_place_order(self, mock_get_quantity, mock_get_user_choice):\n",
    "        result = place_order()\n",
    "\n",
    "        # Assertions based on the expected behavior of place_order\n",
    "        expected_result = {'Pizza': {'quantity': 3, 'total_price': 19500},\n",
    "                           'Burger': {'quantity': 3, 'total_price': 9000}}\n",
    "        self.assertEqual(result, expected_result)\n",
    "\n",
    "        # Check that get_user_choice was called three times\n",
    "        self.assertEqual(mock_get_user_choice.call_count, 3)\n",
    "\n",
    "        # Check that get_quantity was called twice (for the two items added)\n",
    "        self.assertEqual(mock_get_quantity.call_count, 2)\n",
    "\n",
    "tester = TestPlaceOrder()\n",
    "tester.test_place_order()"
   ]
  },
  {
   "cell_type": "code",
   "execution_count": 63,
   "id": "a5370336-ca99-4968-b950-2032e5d2e6c9",
   "metadata": {
    "deletable": false,
    "nbgrader": {
     "cell_type": "code",
     "checksum": "58cc5699304e14a0155f4791d34f23a1",
     "grade": false,
     "grade_id": "cell-620884e13f967fa3",
     "locked": false,
     "schema_version": 3,
     "solution": true,
     "task": false
    }
   },
   "outputs": [],
   "source": [
    "def check_out(cart):\n",
    "    \"\"\"\n",
    "    Description: Finalizes the order by displaying the contents of the shopping c                                   art, including quantities and total prices.\n",
    "                 Prints the total order price like a receipt.\n",
    "\n",
    "                 The reciept would look like this if the cart is empty\n",
    "                 \n",
    "                     Your cart is empty. No items to check out.\n",
    "\n",
    "\n",
    "                 If the Cart is has items in it then the receipt should look like this\n",
    "\n",
    "                     Checking out...\n",
    "                     Your order details:\n",
    "                     Item 1: Quantity - 2, Total Price - $20\n",
    "                     Item 2: Quantity - 3, Total Price - $15\n",
    "                     Total Order Price: $35\n",
    "                     Thank you for ordering!\n",
    "                     \n",
    "                     \n",
    "    \"\"\"\n",
    "    if cart != None:\n",
    "        print(\"\\nChecking out...\")\n",
    "        print(\"Your order details:\")\n",
    "        key_lst = [k for k in cart.keys()]\n",
    "\n",
    "        index = 0\n",
    "        total = 0\n",
    "        while index < len(key_lst):\n",
    "            food = key_lst[index]\n",
    "            quantity = cart[key_lst[index]].get('quantity')\n",
    "            price = cart[key_lst[index]].get('total_price')  \n",
    "            total = total + price\n",
    "            index += 1\n",
    "            print(f\"{food}: Quantity : {quantity}, price: ${price}\")            \n",
    "        print(f\"Total Order Price: ${total}\")\n",
    "        print(\"Thank you for ordering!\")\n",
    "    else:\n",
    "        print(\"Your cart is empty. No items to check out.\")"
   ]
  },
  {
   "cell_type": "code",
   "execution_count": 64,
   "id": "67efac5c",
   "metadata": {
    "scrolled": false
   },
   "outputs": [
    {
     "name": "stdout",
     "output_type": "stream",
     "text": [
      "Enter a number for your choice of food 4\n",
      "Your cart is empty. No items to check out.\n"
     ]
    }
   ],
   "source": [
    "check_out(place_order())"
   ]
  },
  {
   "cell_type": "code",
   "execution_count": 65,
   "id": "ba00d467",
   "metadata": {},
   "outputs": [
    {
     "name": "stdout",
     "output_type": "stream",
     "text": [
      "Enter a number for your choice of food 1\n",
      "Enter Number of items 3\n",
      "Do you want to place another order? Y/N y\n",
      "Enter a number for your choice of food 2\n",
      "Enter Number of items 3\n",
      "Do you want to place another order? Y/N n\n",
      "\n",
      "Checking out...\n",
      "Your order details:\n",
      "Pizza: Quantity : 3, price: $19500\n",
      "Burger: Quantity : 3, price: $9000\n",
      "Total Order Price: $28500\n",
      "Thank you for ordering!\n"
     ]
    }
   ],
   "source": [
    "check_out(place_order())"
   ]
  },
  {
   "cell_type": "code",
   "execution_count": 66,
   "id": "17b0205f-5d1a-465e-8906-f14d3aa03740",
   "metadata": {
    "deletable": false,
    "editable": false,
    "nbgrader": {
     "cell_type": "code",
     "checksum": "1e81a3002e8057c2df745ed5533965ec",
     "grade": true,
     "grade_id": "cell-db0a762b93d269b1",
     "locked": true,
     "points": 4,
     "schema_version": 3,
     "solution": false,
     "task": false
    }
   },
   "outputs": [
    {
     "ename": "AssertionError",
     "evalue": "expected call not found.\nExpected: print('Your cart is empty. No items to check out.')\nActual: print('Thank you for ordering!')",
     "output_type": "error",
     "traceback": [
      "\u001b[1;31m---------------------------------------------------------------------------\u001b[0m",
      "\u001b[1;31mAssertionError\u001b[0m                            Traceback (most recent call last)",
      "Cell \u001b[1;32mIn[66], line 31\u001b[0m\n\u001b[0;32m     28\u001b[0m         mock_print\u001b[38;5;241m.\u001b[39massert_has_calls(calls, any_order\u001b[38;5;241m=\u001b[39m\u001b[38;5;28;01mFalse\u001b[39;00m)\n\u001b[0;32m     30\u001b[0m tester \u001b[38;5;241m=\u001b[39m TestCheckOut()\n\u001b[1;32m---> 31\u001b[0m tester\u001b[38;5;241m.\u001b[39mtest_check_out_empty_cart()\n\u001b[0;32m     32\u001b[0m tester\u001b[38;5;241m.\u001b[39mtest_check_out_non_empty_cart()\n",
      "File \u001b[1;32m~\\anaconda3\\Lib\\unittest\\mock.py:1369\u001b[0m, in \u001b[0;36m_patch.decorate_callable.<locals>.patched\u001b[1;34m(*args, **keywargs)\u001b[0m\n\u001b[0;32m   1364\u001b[0m \u001b[38;5;129m@wraps\u001b[39m(func)\n\u001b[0;32m   1365\u001b[0m \u001b[38;5;28;01mdef\u001b[39;00m \u001b[38;5;21mpatched\u001b[39m(\u001b[38;5;241m*\u001b[39margs, \u001b[38;5;241m*\u001b[39m\u001b[38;5;241m*\u001b[39mkeywargs):\n\u001b[0;32m   1366\u001b[0m     \u001b[38;5;28;01mwith\u001b[39;00m \u001b[38;5;28mself\u001b[39m\u001b[38;5;241m.\u001b[39mdecoration_helper(patched,\n\u001b[0;32m   1367\u001b[0m                                 args,\n\u001b[0;32m   1368\u001b[0m                                 keywargs) \u001b[38;5;28;01mas\u001b[39;00m (newargs, newkeywargs):\n\u001b[1;32m-> 1369\u001b[0m         \u001b[38;5;28;01mreturn\u001b[39;00m func(\u001b[38;5;241m*\u001b[39mnewargs, \u001b[38;5;241m*\u001b[39m\u001b[38;5;241m*\u001b[39mnewkeywargs)\n",
      "Cell \u001b[1;32mIn[66], line 8\u001b[0m, in \u001b[0;36mTestCheckOut.test_check_out_empty_cart\u001b[1;34m(self, mock_print)\u001b[0m\n\u001b[0;32m      6\u001b[0m cart \u001b[38;5;241m=\u001b[39m {}\n\u001b[0;32m      7\u001b[0m check_out(cart)\n\u001b[1;32m----> 8\u001b[0m mock_print\u001b[38;5;241m.\u001b[39massert_called_with(\u001b[38;5;124m\"\u001b[39m\u001b[38;5;124mYour cart is empty. No items to check out.\u001b[39m\u001b[38;5;124m\"\u001b[39m)\n",
      "File \u001b[1;32m~\\anaconda3\\Lib\\unittest\\mock.py:933\u001b[0m, in \u001b[0;36mNonCallableMock.assert_called_with\u001b[1;34m(self, *args, **kwargs)\u001b[0m\n\u001b[0;32m    931\u001b[0m \u001b[38;5;28;01mif\u001b[39;00m actual \u001b[38;5;241m!=\u001b[39m expected:\n\u001b[0;32m    932\u001b[0m     cause \u001b[38;5;241m=\u001b[39m expected \u001b[38;5;28;01mif\u001b[39;00m \u001b[38;5;28misinstance\u001b[39m(expected, \u001b[38;5;167;01mException\u001b[39;00m) \u001b[38;5;28;01melse\u001b[39;00m \u001b[38;5;28;01mNone\u001b[39;00m\n\u001b[1;32m--> 933\u001b[0m     \u001b[38;5;28;01mraise\u001b[39;00m \u001b[38;5;167;01mAssertionError\u001b[39;00m(_error_message()) \u001b[38;5;28;01mfrom\u001b[39;00m \u001b[38;5;21;01mcause\u001b[39;00m\n",
      "\u001b[1;31mAssertionError\u001b[0m: expected call not found.\nExpected: print('Your cart is empty. No items to check out.')\nActual: print('Thank you for ordering!')"
     ]
    }
   ],
   "source": [
    "#PLEASE DO NOT MODIFY THIS CELL\n",
    "\n",
    "class TestCheckOut(unittest.TestCase):\n",
    "    @patch('builtins.print')\n",
    "    def test_check_out_empty_cart(self, mock_print):\n",
    "        cart = {}\n",
    "        check_out(cart)\n",
    "        mock_print.assert_called_with(\"Your cart is empty. No items to check out.\")\n",
    "\n",
    "    @patch('builtins.print')\n",
    "    def test_check_out_non_empty_cart(self, mock_print):\n",
    "        cart = {\n",
    "            'Item 1': {'quantity': 2, 'total_price': 20},\n",
    "            'Item 2': {'quantity': 3, 'total_price': 15}\n",
    "        }\n",
    "        check_out(cart)\n",
    "\n",
    "        # Verify that the expected output was printed\n",
    "        expected_output = [\n",
    "            \"Checking out...\",\n",
    "            \"Your order details:\",\n",
    "            \"Item 1: Quantity - 2, Total Price - $20\",\n",
    "            \"Item 2: Quantity - 3, Total Price - $15\",\n",
    "            \"Total Order Price: $35\",\n",
    "            \"Thank you for ordering!\"\n",
    "        ]\n",
    "        calls = [unittest.mock.call(output) for output in expected_output]\n",
    "        mock_print.assert_has_calls(calls, any_order=False)\n",
    "\n",
    "tester = TestCheckOut()\n",
    "tester.test_check_out_empty_cart()\n",
    "tester.test_check_out_non_empty_cart()"
   ]
  },
  {
   "cell_type": "code",
   "execution_count": 67,
   "id": "1230d66a-6384-4ec3-9939-774eb2420156",
   "metadata": {
    "deletable": false,
    "editable": false,
    "nbgrader": {
     "cell_type": "code",
     "checksum": "1901b0eb51a4db1704d4231199ec2a8b",
     "grade": false,
     "grade_id": "cell-aa1cd2da31c96375",
     "locked": true,
     "schema_version": 3,
     "solution": false,
     "task": false
    }
   },
   "outputs": [],
   "source": [
    "#PLEASE DO NOT MODIFY THIS CELL\n",
    "\n",
    "def food_ordering_app():\n",
    "    \"\"\"\n",
    "    Description: The main function that initiates the food ordering application.\n",
    "                 Calls place_order() to build the shopping cart and then calls check_out() to complete the order.\n",
    "\n",
    "                 NOTE THAT IF ANY OF THE OTHER FUNCTIONS ARE NOT CORRECTLY WRITTEN THIS WILL FAIL\n",
    "                 PLEASE DO NOT MODIFY THIS CELL\n",
    "    \"\"\"\n",
    "    print(\"Welcome to the Food Ordering App!\")\n",
    "    cart = place_order()\n",
    "    check_out(cart)"
   ]
  },
  {
   "cell_type": "code",
   "execution_count": 70,
   "id": "52fcb39e",
   "metadata": {},
   "outputs": [
    {
     "name": "stdout",
     "output_type": "stream",
     "text": [
      "Welcome to the Food Ordering App!\n",
      "Enter a number for your choice of food \n",
      "Enter a number for your choice of food 1\n",
      "Enter Number of items 2\n",
      "Do you want to place another order? Y/N y\n",
      "Enter a number for your choice of food 2\n",
      "Enter Number of items 3\n",
      "Do you want to place another order? Y/N n\n",
      "\n",
      "Checking out...\n",
      "Your order details:\n",
      "Pizza: Quantity : 2, price: $13000\n",
      "Burger: Quantity : 3, price: $9000\n",
      "Total Order Price: $22000\n",
      "Thank you for ordering!\n"
     ]
    }
   ],
   "source": [
    "food_ordering_app()"
   ]
  },
  {
   "cell_type": "code",
   "execution_count": 71,
   "id": "f82b0ff1-7e23-4970-a5c3-a67b9ce14665",
   "metadata": {
    "deletable": false,
    "editable": false,
    "nbgrader": {
     "cell_type": "code",
     "checksum": "ce98b8d3ea8a4787239c24261dd47ca2",
     "grade": true,
     "grade_id": "cell-bc7e2ab74f6ce4b3",
     "locked": true,
     "points": 4,
     "schema_version": 3,
     "solution": false,
     "task": false
    }
   },
   "outputs": [],
   "source": [
    "#PLEASE DO NOT MODIFY THIS CELL\n",
    "\n",
    "class TestFoodOrderingApp(unittest.TestCase):\n",
    "    @patch('builtins.print')\n",
    "    @patch('__main__.place_order', return_value={'Item 1': {'quantity': 2, 'total_price': 20}})\n",
    "    @patch('__main__.check_out')\n",
    "    def test_food_ordering_app(self, mock_check_out, mock_place_order, mock_print):\n",
    "        food_ordering_app()\n",
    "\n",
    "        # Verify that the expected calls were made\n",
    "        mock_print.assert_called_with(\"Welcome to the Food Ordering App!\")\n",
    "        mock_place_order.assert_called_once()\n",
    "        mock_check_out.assert_called_once()\n",
    "\n",
    "tester = TestFoodOrderingApp()\n",
    "tester.test_food_ordering_app()"
   ]
  }
 ],
 "metadata": {
  "kernelspec": {
   "display_name": "Python 3 (ipykernel)",
   "language": "python",
   "name": "python3"
  },
  "language_info": {
   "codemirror_mode": {
    "name": "ipython",
    "version": 3
   },
   "file_extension": ".py",
   "mimetype": "text/x-python",
   "name": "python",
   "nbconvert_exporter": "python",
   "pygments_lexer": "ipython3",
   "version": "3.11.5"
  }
 },
 "nbformat": 4,
 "nbformat_minor": 5
}
